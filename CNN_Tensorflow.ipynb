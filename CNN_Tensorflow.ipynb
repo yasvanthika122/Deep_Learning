{
  "nbformat": 4,
  "nbformat_minor": 0,
  "metadata": {
    "colab": {
      "provenance": [],
      "include_colab_link": true
    },
    "kernelspec": {
      "name": "python3",
      "display_name": "Python 3"
    },
    "language_info": {
      "name": "python"
    },
    "accelerator": "TPU"
  },
  "cells": [
    {
      "cell_type": "markdown",
      "metadata": {
        "id": "view-in-github",
        "colab_type": "text"
      },
      "source": [
        "<a href=\"https://colab.research.google.com/github/yasvanthika122/Deep_Learning/blob/main/CNN_Tensorflow.ipynb\" target=\"_parent\"><img src=\"https://colab.research.google.com/assets/colab-badge.svg\" alt=\"Open In Colab\"/></a>"
      ]
    },
    {
      "cell_type": "code",
      "execution_count": null,
      "metadata": {
        "id": "C-TUPLFq6djI"
      },
      "outputs": [],
      "source": [
        "import tensorflow as tf\n",
        "from keras import layers,models\n",
        "from keras.datasets import fashion_mnist\n",
        "from keras.utils import to_categorical"
      ]
    },
    {
      "cell_type": "code",
      "source": [
        "# Load and preprocess the Fashion MNIST dataset\n",
        " (train_images, train_labels), (test_images, test_labels)=fashion_mnist.load_data()"
      ],
      "metadata": {
        "id": "gyp3EEu_7FsF",
        "colab": {
          "base_uri": "https://localhost:8080/"
        },
        "outputId": "bcdf2544-2b18-42a2-89bb-cdf359fbfc7b"
      },
      "execution_count": null,
      "outputs": [
        {
          "output_type": "stream",
          "name": "stdout",
          "text": [
            "Downloading data from https://storage.googleapis.com/tensorflow/tf-keras-datasets/train-labels-idx1-ubyte.gz\n",
            "29515/29515 [==============================] - 0s 0us/step\n",
            "Downloading data from https://storage.googleapis.com/tensorflow/tf-keras-datasets/train-images-idx3-ubyte.gz\n",
            "26421880/26421880 [==============================] - 1s 0us/step\n",
            "Downloading data from https://storage.googleapis.com/tensorflow/tf-keras-datasets/t10k-labels-idx1-ubyte.gz\n",
            "5148/5148 [==============================] - 0s 0us/step\n",
            "Downloading data from https://storage.googleapis.com/tensorflow/tf-keras-datasets/t10k-images-idx3-ubyte.gz\n",
            "4422102/4422102 [==============================] - 0s 0us/step\n"
          ]
        }
      ]
    },
    {
      "cell_type": "code",
      "source": [
        "# Normalize pixel values to be between 0 and 1\n",
        "train_images,test_images=train_images/255.0,test_images/255.0"
      ],
      "metadata": {
        "id": "k_jgetrR7jxw"
      },
      "execution_count": null,
      "outputs": []
    },
    {
      "cell_type": "code",
      "source": [
        "# Add a channel dimension to the images (required for convolutional layers)\n",
        "train_images = train_images.reshape((60000,28,28,1))\n",
        "test_images = test_images.reshape((10000,28,28,1))"
      ],
      "metadata": {
        "id": "MR2CuE6U9H2g"
      },
      "execution_count": null,
      "outputs": []
    },
    {
      "cell_type": "code",
      "source": [
        "# Convert labels to one-hot encoding\n",
        "train_labels=to_categorical(train_labels)\n",
        "test_labels=to_categorical(test_labels)"
      ],
      "metadata": {
        "id": "vXZ5neX39rB0"
      },
      "execution_count": null,
      "outputs": []
    },
    {
      "cell_type": "code",
      "source": [
        "# Build the CNN model\n",
        "model = models.Sequential()\n",
        "\n",
        "# Convolutional layers\n",
        "model.add(layers.Conv2D(32, (3, 3), activation='relu', input_shape=(28, 28, 1)))#32 defines how many filters , (3,3)->filter size\n",
        "model.add(layers.MaxPooling2D((2, 2))) #a convolution layer have pooling layer\n",
        "model.add(layers.Conv2D(64, (3, 3), activation='relu'))\n",
        "model.add(layers.MaxPooling2D((2, 2)))\n",
        "model.add(layers.Conv2D(64, (3, 3), activation='relu'))\n",
        "\n",
        "\n",
        "# Dense layers\n",
        "model.add(layers.Flatten())#to change 1D ->to pass in neural network\n",
        "model.add(layers.Dense(64, activation='relu'))\n",
        "model.add(layers.Dense(10, activation='softmax'))  # 10 classes for Fashion MNIST"
      ],
      "metadata": {
        "id": "0dI7mqRF-AOT"
      },
      "execution_count": null,
      "outputs": []
    },
    {
      "cell_type": "code",
      "source": [
        "# Compile the model\n",
        "model.compile(optimizer='adam',\n",
        "              loss='categorical_crossentropy',\n",
        "              metrics=['accuracy'])"
      ],
      "metadata": {
        "id": "TiEb2KeX-Kxv"
      },
      "execution_count": null,
      "outputs": []
    },
    {
      "cell_type": "code",
      "source": [
        "# Train the model\n",
        "model.fit(train_images, train_labels, epochs=10, validation_data=(test_images, test_labels))"
      ],
      "metadata": {
        "colab": {
          "base_uri": "https://localhost:8080/"
        },
        "id": "Ci38nCul_mFN",
        "outputId": "1bd92785-1eb0-4892-cc3b-ffb91e5cdf2d"
      },
      "execution_count": null,
      "outputs": [
        {
          "output_type": "stream",
          "name": "stdout",
          "text": [
            "Epoch 1/10\n",
            "1875/1875 [==============================] - 87s 42ms/step - loss: 0.4924 - accuracy: 0.8190 - val_loss: 0.3773 - val_accuracy: 0.8610\n",
            "Epoch 2/10\n",
            "1875/1875 [==============================] - 75s 40ms/step - loss: 0.3225 - accuracy: 0.8818 - val_loss: 0.3455 - val_accuracy: 0.8736\n",
            "Epoch 3/10\n",
            "1875/1875 [==============================] - 71s 38ms/step - loss: 0.2724 - accuracy: 0.9001 - val_loss: 0.3107 - val_accuracy: 0.8819\n",
            "Epoch 4/10\n",
            "1875/1875 [==============================] - 71s 38ms/step - loss: 0.2412 - accuracy: 0.9103 - val_loss: 0.2706 - val_accuracy: 0.9024\n",
            "Epoch 5/10\n",
            "1875/1875 [==============================] - 72s 38ms/step - loss: 0.2184 - accuracy: 0.9194 - val_loss: 0.2696 - val_accuracy: 0.9043\n",
            "Epoch 6/10\n",
            "1875/1875 [==============================] - 69s 37ms/step - loss: 0.1957 - accuracy: 0.9263 - val_loss: 0.2590 - val_accuracy: 0.9067\n",
            "Epoch 7/10\n",
            "1875/1875 [==============================] - 76s 40ms/step - loss: 0.1792 - accuracy: 0.9333 - val_loss: 0.2589 - val_accuracy: 0.9060\n",
            "Epoch 8/10\n",
            "1875/1875 [==============================] - 69s 37ms/step - loss: 0.1634 - accuracy: 0.9387 - val_loss: 0.2761 - val_accuracy: 0.9059\n",
            "Epoch 9/10\n",
            "1875/1875 [==============================] - 70s 37ms/step - loss: 0.1512 - accuracy: 0.9435 - val_loss: 0.2802 - val_accuracy: 0.9101\n",
            "Epoch 10/10\n",
            "1875/1875 [==============================] - 70s 37ms/step - loss: 0.1369 - accuracy: 0.9482 - val_loss: 0.2757 - val_accuracy: 0.9070\n"
          ]
        },
        {
          "output_type": "execute_result",
          "data": {
            "text/plain": [
              "<keras.callbacks.History at 0x7b9e5c402cb0>"
            ]
          },
          "metadata": {},
          "execution_count": 8
        }
      ]
    },
    {
      "cell_type": "code",
      "source": [
        "# Evaluate the model on the test set\n",
        "test_loss, test_acc = model.evaluate(test_images, test_labels)\n",
        "print(f'Test accuracy: {test_acc}')"
      ],
      "metadata": {
        "colab": {
          "base_uri": "https://localhost:8080/"
        },
        "id": "-F2aRTCyAQcO",
        "outputId": "fb70012e-ddc4-40e3-d56c-2a88e623b304"
      },
      "execution_count": null,
      "outputs": [
        {
          "output_type": "stream",
          "name": "stdout",
          "text": [
            "313/313 [==============================] - 3s 10ms/step - loss: 0.2757 - accuracy: 0.9070\n",
            "Test accuracy: 0.9070000052452087\n"
          ]
        }
      ]
    }
  ]
}