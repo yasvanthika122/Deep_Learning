{
  "nbformat": 4,
  "nbformat_minor": 0,
  "metadata": {
    "colab": {
      "provenance": [],
      "gpuType": "T4",
      "authorship_tag": "ABX9TyMSXPcTD0cWpN7H/8kVEZX1",
      "include_colab_link": true
    },
    "kernelspec": {
      "name": "python3",
      "display_name": "Python 3"
    },
    "language_info": {
      "name": "python"
    },
    "accelerator": "GPU"
  },
  "cells": [
    {
      "cell_type": "markdown",
      "metadata": {
        "id": "view-in-github",
        "colab_type": "text"
      },
      "source": [
        "<a href=\"https://colab.research.google.com/github/yasvanthika122/Deep_Learning/blob/main/Tensorflow.ipynb\" target=\"_parent\"><img src=\"https://colab.research.google.com/assets/colab-badge.svg\" alt=\"Open In Colab\"/></a>"
      ]
    },
    {
      "cell_type": "code",
      "execution_count": null,
      "metadata": {
        "colab": {
          "base_uri": "https://localhost:8080/"
        },
        "id": "ypPjIWKzmxtG",
        "outputId": "5f7d1062-a917-4fee-8fba-7d5709662045"
      },
      "outputs": [
        {
          "output_type": "stream",
          "name": "stdout",
          "text": [
            "2.15.0\n"
          ]
        }
      ],
      "source": [
        "import tensorflow as tf\n",
        "print(tf.__version__)"
      ]
    },
    {
      "cell_type": "code",
      "source": [
        "mnist = tf.keras.datasets.mnist\n",
        "\n",
        "(x_train, y_train), (x_test, y_test) = mnist.load_data()\n",
        "x_train, x_test = x_train / 255.0, x_test / 255.0\n"
      ],
      "metadata": {
        "colab": {
          "base_uri": "https://localhost:8080/"
        },
        "id": "B-EyBcV4nvP8",
        "outputId": "4979307c-a90f-48a6-9711-d6a7384b3d09"
      },
      "execution_count": null,
      "outputs": [
        {
          "output_type": "stream",
          "name": "stdout",
          "text": [
            "Downloading data from https://storage.googleapis.com/tensorflow/tf-keras-datasets/mnist.npz\n",
            "11490434/11490434 [==============================] - 0s 0us/step\n"
          ]
        }
      ]
    },
    {
      "cell_type": "code",
      "source": [
        "#flattern ->standardize & normalize\n",
        "model = tf.keras.models.Sequential([\n",
        "  tf.keras.layers.Flatten(input_shape=(28, 28)),\n",
        "  tf.keras.layers.Dense(128, activation='relu'),\n",
        "  tf.keras.layers.Dropout(0.2),\n",
        "  tf.keras.layers.Dense(10)\n",
        "])"
      ],
      "metadata": {
        "id": "8_ZHb_AzoFe1"
      },
      "execution_count": null,
      "outputs": []
    },
    {
      "cell_type": "code",
      "source": [
        "predictions = model(x_train[:1]).numpy()\n",
        "predictions"
      ],
      "metadata": {
        "colab": {
          "base_uri": "https://localhost:8080/"
        },
        "id": "I5tuSc8LpXM2",
        "outputId": "50eef30d-431f-4b49-c97a-82a0c72a29d9"
      },
      "execution_count": null,
      "outputs": [
        {
          "output_type": "execute_result",
          "data": {
            "text/plain": [
              "array([[ 0.06423573, -0.51427335,  0.34098074,  0.19619015,  0.7803675 ,\n",
              "        -0.3020479 , -0.10943913,  0.27839458,  0.6087402 , -0.09745964]],\n",
              "      dtype=float32)"
            ]
          },
          "metadata": {},
          "execution_count": 4
        }
      ]
    },
    {
      "cell_type": "code",
      "source": [
        "tf.nn.softmax(predictions).numpy()"
      ],
      "metadata": {
        "colab": {
          "base_uri": "https://localhost:8080/"
        },
        "id": "q_wDoG6_pcLh",
        "outputId": "cefed728-dc5b-4d4e-9d80-f2b953c68dbe"
      },
      "execution_count": null,
      "outputs": [
        {
          "output_type": "execute_result",
          "data": {
            "text/plain": [
              "array([[0.08760963, 0.04912568, 0.11554221, 0.09996751, 0.17929323,\n",
              "        0.06074029, 0.07364203, 0.10853251, 0.15101744, 0.07452953]],\n",
              "      dtype=float32)"
            ]
          },
          "metadata": {},
          "execution_count": 5
        }
      ]
    },
    {
      "cell_type": "code",
      "source": [
        "loss_fn = tf.keras.losses.SparseCategoricalCrossentropy(from_logits=True)"
      ],
      "metadata": {
        "id": "0kiH8y6VpnVr"
      },
      "execution_count": null,
      "outputs": []
    },
    {
      "cell_type": "code",
      "source": [
        "loss_fn(y_train[:1], predictions).numpy()"
      ],
      "metadata": {
        "colab": {
          "base_uri": "https://localhost:8080/"
        },
        "id": "cQhItpNtpqMl",
        "outputId": "5dce499e-8fe5-4db9-f380-d1ff7d887803"
      },
      "execution_count": null,
      "outputs": [
        {
          "output_type": "execute_result",
          "data": {
            "text/plain": [
              "2.801148"
            ]
          },
          "metadata": {},
          "execution_count": 7
        }
      ]
    },
    {
      "cell_type": "code",
      "source": [
        "model.compile(optimizer='adam',\n",
        "              loss=loss_fn,\n",
        "              metrics=['accuracy'])"
      ],
      "metadata": {
        "id": "H9Iouvv5pt2t"
      },
      "execution_count": null,
      "outputs": []
    },
    {
      "cell_type": "code",
      "source": [
        "model.fit(x_train, y_train, epochs=5)"
      ],
      "metadata": {
        "colab": {
          "base_uri": "https://localhost:8080/"
        },
        "id": "mJxqju5RpxvF",
        "outputId": "1ff7ffb2-a07a-4b91-88fc-6e9abab850cc"
      },
      "execution_count": null,
      "outputs": [
        {
          "output_type": "stream",
          "name": "stdout",
          "text": [
            "Epoch 1/5\n",
            "1875/1875 [==============================] - 13s 3ms/step - loss: 0.2989 - accuracy: 0.9128\n",
            "Epoch 2/5\n",
            "1875/1875 [==============================] - 5s 3ms/step - loss: 0.1427 - accuracy: 0.9584\n",
            "Epoch 3/5\n",
            "1875/1875 [==============================] - 5s 2ms/step - loss: 0.1072 - accuracy: 0.9676\n",
            "Epoch 4/5\n",
            "1875/1875 [==============================] - 5s 2ms/step - loss: 0.0883 - accuracy: 0.9724\n",
            "Epoch 5/5\n",
            "1875/1875 [==============================] - 5s 3ms/step - loss: 0.0729 - accuracy: 0.9771\n"
          ]
        },
        {
          "output_type": "execute_result",
          "data": {
            "text/plain": [
              "<keras.src.callbacks.History at 0x7935bf3ce170>"
            ]
          },
          "metadata": {},
          "execution_count": 9
        }
      ]
    },
    {
      "cell_type": "code",
      "source": [
        "model.evaluate(x_test,  y_test, verbose=2)"
      ],
      "metadata": {
        "colab": {
          "base_uri": "https://localhost:8080/"
        },
        "id": "wOJAD_Kmp1R5",
        "outputId": "df260f7d-6b5a-495f-f0c8-e73b8dea00c0"
      },
      "execution_count": null,
      "outputs": [
        {
          "output_type": "stream",
          "name": "stdout",
          "text": [
            "313/313 - 1s - loss: 0.0731 - accuracy: 0.9771 - 972ms/epoch - 3ms/step\n"
          ]
        },
        {
          "output_type": "execute_result",
          "data": {
            "text/plain": [
              "[0.0730714425444603, 0.9771000146865845]"
            ]
          },
          "metadata": {},
          "execution_count": 10
        }
      ]
    },
    {
      "cell_type": "code",
      "source": [
        "probability_model = tf.keras.Sequential([\n",
        "  model,\n",
        "  tf.keras.layers.Softmax()\n",
        "])"
      ],
      "metadata": {
        "id": "U0y12PWjp4SZ"
      },
      "execution_count": null,
      "outputs": []
    },
    {
      "cell_type": "code",
      "source": [
        "probability_model(x_test[:5])"
      ],
      "metadata": {
        "colab": {
          "base_uri": "https://localhost:8080/"
        },
        "id": "cdwl1blmp7Uf",
        "outputId": "12309e47-ba6d-45a2-88a9-6b8f3fbfb4fb"
      },
      "execution_count": null,
      "outputs": [
        {
          "output_type": "execute_result",
          "data": {
            "text/plain": [
              "<tf.Tensor: shape=(5, 10), dtype=float32, numpy=\n",
              "array([[7.05147158e-08, 2.96412814e-08, 3.65397045e-06, 1.20583674e-04,\n",
              "        8.66971859e-12, 1.62025242e-06, 3.77493284e-13, 9.99871254e-01,\n",
              "        2.65237531e-07, 2.46884451e-06],\n",
              "       [1.63607385e-08, 1.70673869e-04, 9.99827862e-01, 4.01320051e-07,\n",
              "        3.73865181e-15, 5.10463849e-07, 5.57660371e-07, 2.75729157e-12,\n",
              "        6.69297773e-09, 5.88760106e-13],\n",
              "       [1.82358960e-07, 9.98923242e-01, 2.06710072e-04, 3.12643010e-06,\n",
              "        1.41397148e-04, 1.99700503e-06, 5.87865907e-05, 5.93097007e-04,\n",
              "        7.12445399e-05, 2.58568861e-07],\n",
              "       [9.99691367e-01, 2.18561365e-08, 1.19834076e-04, 7.05962151e-08,\n",
              "        2.17102098e-07, 1.04109284e-04, 3.88754270e-05, 3.82437829e-05,\n",
              "        1.04603597e-08, 7.26990220e-06],\n",
              "       [9.50426147e-06, 2.05433821e-07, 2.42934184e-05, 2.05816221e-07,\n",
              "        9.97072697e-01, 1.21098637e-07, 7.65210700e-07, 1.39964250e-04,\n",
              "        1.50742244e-06, 2.75075249e-03]], dtype=float32)>"
            ]
          },
          "metadata": {},
          "execution_count": 12
        }
      ]
    },
    {
      "cell_type": "code",
      "source": [
        "\n",
        "from tensorflow.keras.datasets import fashion_mnist\n",
        "\n",
        "# Load the Fashion MNIST dataset\n",
        "(train_images, train_labels), (test_images, test_labels) = fashion_mnist.load_data()\n",
        "\n",
        "# Preprocess the data\n",
        "train_images = train_images / 255.0\n",
        "test_images = test_images / 255.0\n",
        "\n",
        "# Build the model\n",
        "model = tf.keras.Sequential([\n",
        "    tf.keras.layers.Flatten(input_shape=(28, 28)),\n",
        "    tf.keras.layers.Dense(128, activation='relu'),\n",
        "    tf.keras.layers.Dense(10, activation='softmax')\n",
        "])\n",
        "\n",
        "# Compile the model\n",
        "model.compile(optimizer='adam',\n",
        "              loss='sparse_categorical_crossentropy',\n",
        "              metrics=['accuracy'])\n",
        "\n",
        "# Train the model\n",
        "model.fit(train_images, train_labels, epochs=12, batch_size=64, validation_split=0.2)\n",
        "\n",
        "# Evaluate the model\n",
        "test_loss, test_acc = model.evaluate(test_images, test_labels)\n",
        "print(f'Test accuracy: {test_acc * 100:.2f}%')\n"
      ],
      "metadata": {
        "colab": {
          "base_uri": "https://localhost:8080/"
        },
        "id": "DZEoKvm_sBls",
        "outputId": "10225d1c-5dda-4509-cb1d-0469ddf3493f"
      },
      "execution_count": null,
      "outputs": [
        {
          "output_type": "stream",
          "name": "stdout",
          "text": [
            "Downloading data from https://storage.googleapis.com/tensorflow/tf-keras-datasets/train-labels-idx1-ubyte.gz\n",
            "29515/29515 [==============================] - 0s 0us/step\n",
            "Downloading data from https://storage.googleapis.com/tensorflow/tf-keras-datasets/train-images-idx3-ubyte.gz\n",
            "26421880/26421880 [==============================] - 0s 0us/step\n",
            "Downloading data from https://storage.googleapis.com/tensorflow/tf-keras-datasets/t10k-labels-idx1-ubyte.gz\n",
            "5148/5148 [==============================] - 0s 0us/step\n",
            "Downloading data from https://storage.googleapis.com/tensorflow/tf-keras-datasets/t10k-images-idx3-ubyte.gz\n",
            "4422102/4422102 [==============================] - 0s 0us/step\n",
            "Epoch 1/12\n",
            "750/750 [==============================] - 3s 4ms/step - loss: 0.5353 - accuracy: 0.8140 - val_loss: 0.4489 - val_accuracy: 0.8454\n",
            "Epoch 2/12\n",
            "750/750 [==============================] - 2s 3ms/step - loss: 0.3984 - accuracy: 0.8588 - val_loss: 0.4015 - val_accuracy: 0.8587\n",
            "Epoch 3/12\n",
            "750/750 [==============================] - 2s 3ms/step - loss: 0.3596 - accuracy: 0.8702 - val_loss: 0.3576 - val_accuracy: 0.8725\n",
            "Epoch 4/12\n",
            "750/750 [==============================] - 3s 4ms/step - loss: 0.3302 - accuracy: 0.8799 - val_loss: 0.3360 - val_accuracy: 0.8798\n",
            "Epoch 5/12\n",
            "750/750 [==============================] - 3s 3ms/step - loss: 0.3107 - accuracy: 0.8863 - val_loss: 0.3408 - val_accuracy: 0.8806\n",
            "Epoch 6/12\n",
            "750/750 [==============================] - 2s 3ms/step - loss: 0.2943 - accuracy: 0.8924 - val_loss: 0.3373 - val_accuracy: 0.8802\n",
            "Epoch 7/12\n",
            "750/750 [==============================] - 2s 3ms/step - loss: 0.2845 - accuracy: 0.8950 - val_loss: 0.3293 - val_accuracy: 0.8798\n",
            "Epoch 8/12\n",
            "750/750 [==============================] - 2s 3ms/step - loss: 0.2687 - accuracy: 0.9012 - val_loss: 0.3229 - val_accuracy: 0.8847\n",
            "Epoch 9/12\n",
            "750/750 [==============================] - 3s 4ms/step - loss: 0.2594 - accuracy: 0.9049 - val_loss: 0.3251 - val_accuracy: 0.8808\n",
            "Epoch 10/12\n",
            "750/750 [==============================] - 3s 4ms/step - loss: 0.2554 - accuracy: 0.9048 - val_loss: 0.3168 - val_accuracy: 0.8885\n",
            "Epoch 11/12\n",
            "750/750 [==============================] - 2s 3ms/step - loss: 0.2442 - accuracy: 0.9101 - val_loss: 0.3196 - val_accuracy: 0.8884\n",
            "Epoch 12/12\n",
            "750/750 [==============================] - 2s 3ms/step - loss: 0.2329 - accuracy: 0.9145 - val_loss: 0.3135 - val_accuracy: 0.8894\n",
            "313/313 [==============================] - 1s 2ms/step - loss: 0.3409 - accuracy: 0.8804\n",
            "Test accuracy: 88.04%\n"
          ]
        }
      ]
    },
    {
      "cell_type": "code",
      "source": [
        "import tensorflow as tf\n",
        "from tensorflow.keras.datasets import fashion_mnist\n",
        "from tensorflow.keras.models import Sequential\n",
        "from tensorflow.keras.layers import Conv2D, MaxPooling2D, Flatten, Dense, Dropout\n",
        "from tensorflow.keras.preprocessing.image import ImageDataGenerator\n",
        "\n",
        "# Load the Fashion MNIST dataset\n",
        "(train_images, train_labels), (test_images, test_labels) = fashion_mnist.load_data()\n",
        "\n",
        "# Reshape and preprocess the data\n",
        "train_images = train_images.reshape(train_images.shape[0], 28, 28, 1).astype('float32') / 255.0\n",
        "test_images = test_images.reshape(test_images.shape[0], 28, 28, 1).astype('float32') / 255.0\n",
        "\n",
        "# Data augmentation\n",
        "datagen = ImageDataGenerator(\n",
        "    rotation_range=10,\n",
        "    width_shift_range=0.1,\n",
        "    height_shift_range=0.1,\n",
        "    shear_range=0.1,\n",
        "    zoom_range=0.1,\n",
        "    horizontal_flip=True,\n",
        "    fill_mode='nearest'\n",
        ")\n",
        "datagen.fit(train_images)\n",
        "\n",
        "# Build the CNN model\n",
        "model = Sequential([\n",
        "    Conv2D(32, (3, 3), activation='relu', input_shape=(28, 28, 1)),\n",
        "    MaxPooling2D((2, 2)),\n",
        "    Conv2D(64, (3, 3), activation='relu'),\n",
        "    MaxPooling2D((2, 2)),\n",
        "    Flatten(),\n",
        "    Dense(128, activation='relu'),\n",
        "    Dropout(0.5),\n",
        "    Dense(10, activation='softmax')\n",
        "])\n",
        "\n",
        "# Compile the model\n",
        "model.compile(optimizer='adam',\n",
        "              loss='sparse_categorical_crossentropy',\n",
        "              metrics=['accuracy'])\n",
        "\n",
        "# Train the model with augmented data\n",
        "model.fit(datagen.flow(train_images, train_labels, batch_size=64), epochs=20, validation_data=(test_images, test_labels))\n",
        "\n",
        "# Evaluate the model\n",
        "test_loss, test_acc = model.evaluate(test_images, test_labels)\n",
        "print(f'Test accuracy: {test_acc * 100:.2f}%')\n"
      ],
      "metadata": {
        "colab": {
          "base_uri": "https://localhost:8080/"
        },
        "id": "vcOzPJtjs8kq",
        "outputId": "2c6169a2-030a-45ab-a1c7-36b4a4e76a97"
      },
      "execution_count": null,
      "outputs": [
        {
          "output_type": "stream",
          "name": "stdout",
          "text": [
            "Epoch 1/20\n",
            "938/938 [==============================] - 26s 25ms/step - loss: 0.8372 - accuracy: 0.6904 - val_loss: 0.5349 - val_accuracy: 0.7946\n",
            "Epoch 2/20\n",
            "938/938 [==============================] - 22s 23ms/step - loss: 0.6165 - accuracy: 0.7676 - val_loss: 0.4565 - val_accuracy: 0.8339\n",
            "Epoch 3/20\n",
            "938/938 [==============================] - 20s 22ms/step - loss: 0.5517 - accuracy: 0.7944 - val_loss: 0.4169 - val_accuracy: 0.8442\n",
            "Epoch 4/20\n",
            "938/938 [==============================] - 22s 23ms/step - loss: 0.5160 - accuracy: 0.8083 - val_loss: 0.3839 - val_accuracy: 0.8601\n",
            "Epoch 5/20\n",
            "938/938 [==============================] - 22s 23ms/step - loss: 0.4841 - accuracy: 0.8229 - val_loss: 0.3705 - val_accuracy: 0.8637\n",
            "Epoch 6/20\n",
            "938/938 [==============================] - 21s 22ms/step - loss: 0.4578 - accuracy: 0.8329 - val_loss: 0.3322 - val_accuracy: 0.8737\n",
            "Epoch 7/20\n",
            "938/938 [==============================] - 22s 24ms/step - loss: 0.4492 - accuracy: 0.8335 - val_loss: 0.3375 - val_accuracy: 0.8744\n",
            "Epoch 8/20\n",
            "938/938 [==============================] - 22s 23ms/step - loss: 0.4302 - accuracy: 0.8415 - val_loss: 0.3514 - val_accuracy: 0.8724\n",
            "Epoch 9/20\n",
            "938/938 [==============================] - 21s 22ms/step - loss: 0.4208 - accuracy: 0.8456 - val_loss: 0.3240 - val_accuracy: 0.8787\n",
            "Epoch 10/20\n",
            "938/938 [==============================] - 22s 23ms/step - loss: 0.4138 - accuracy: 0.8486 - val_loss: 0.3410 - val_accuracy: 0.8748\n",
            "Epoch 11/20\n",
            "938/938 [==============================] - 21s 22ms/step - loss: 0.4034 - accuracy: 0.8522 - val_loss: 0.3144 - val_accuracy: 0.8861\n",
            "Epoch 12/20\n",
            "938/938 [==============================] - 22s 23ms/step - loss: 0.3971 - accuracy: 0.8544 - val_loss: 0.3216 - val_accuracy: 0.8797\n",
            "Epoch 13/20\n",
            "938/938 [==============================] - 21s 22ms/step - loss: 0.3912 - accuracy: 0.8579 - val_loss: 0.3376 - val_accuracy: 0.8793\n",
            "Epoch 14/20\n",
            "938/938 [==============================] - 22s 23ms/step - loss: 0.3841 - accuracy: 0.8585 - val_loss: 0.3066 - val_accuracy: 0.8841\n",
            "Epoch 15/20\n",
            "938/938 [==============================] - 20s 22ms/step - loss: 0.3829 - accuracy: 0.8601 - val_loss: 0.3008 - val_accuracy: 0.8923\n",
            "Epoch 16/20\n",
            "938/938 [==============================] - 22s 23ms/step - loss: 0.3787 - accuracy: 0.8619 - val_loss: 0.2846 - val_accuracy: 0.8971\n",
            "Epoch 17/20\n",
            "938/938 [==============================] - 21s 22ms/step - loss: 0.3700 - accuracy: 0.8642 - val_loss: 0.2963 - val_accuracy: 0.8924\n",
            "Epoch 18/20\n",
            "938/938 [==============================] - 22s 23ms/step - loss: 0.3688 - accuracy: 0.8628 - val_loss: 0.3157 - val_accuracy: 0.8839\n",
            "Epoch 19/20\n",
            "938/938 [==============================] - 24s 25ms/step - loss: 0.3643 - accuracy: 0.8681 - val_loss: 0.2967 - val_accuracy: 0.8892\n",
            "Epoch 20/20\n",
            "938/938 [==============================] - 22s 23ms/step - loss: 0.3566 - accuracy: 0.8683 - val_loss: 0.2923 - val_accuracy: 0.8952\n",
            "313/313 [==============================] - 1s 3ms/step - loss: 0.2923 - accuracy: 0.8952\n",
            "Test accuracy: 89.52%\n"
          ]
        }
      ]
    }
  ]
}